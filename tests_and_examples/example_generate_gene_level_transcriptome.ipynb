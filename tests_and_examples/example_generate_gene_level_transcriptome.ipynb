{
 "cells": [
  {
   "cell_type": "markdown",
   "id": "260fc695",
   "metadata": {},
   "source": [
    "Generate a gene level transcriptome."
   ]
  },
  {
   "cell_type": "code",
   "execution_count": 1,
   "id": "3555d2d7",
   "metadata": {},
   "outputs": [
    {
     "name": "stdout",
     "output_type": "stream",
     "text": [
      "mkdir: cannot create directory ‘temporary_data’: File exists\n",
      "--2021-08-16 12:09:42--  http://ftp.ensembl.org/pub/release-104/fasta/mus_musculus/cdna/Mus_musculus.GRCm39.cdna.all.fa.gz\n",
      "Resolving ftp.ensembl.org (ftp.ensembl.org)... 193.62.197.76\n",
      "Connecting to ftp.ensembl.org (ftp.ensembl.org)|193.62.197.76|:80... connected.\n",
      "HTTP request sent, awaiting response... 200 OK\n",
      "Length: 51166836 (49M) [application/x-gzip]\n",
      "Saving to: ‘temporary_data/gene_level_transcriptome/Mus_musculus.GRCm39.cdna.all.fa.gz’\n",
      "\n",
      "temporary_data/gene 100%[===================>]  48.80M   795KB/s    in 64s     \n",
      "\n",
      "2021-08-16 12:10:46 (783 KB/s) - ‘temporary_data/gene_level_transcriptome/Mus_musculus.GRCm39.cdna.all.fa.gz’ saved [51166836/51166836]\n",
      "\n",
      "--2021-08-16 12:10:48--  http://ftp.ensembl.org/pub/release-104/fasta/mus_musculus/ncrna/Mus_musculus.GRCm39.ncrna.fa.gz\n",
      "Resolving ftp.ensembl.org (ftp.ensembl.org)... 193.62.197.76\n",
      "Connecting to ftp.ensembl.org (ftp.ensembl.org)|193.62.197.76|:80... connected.\n",
      "HTTP request sent, awaiting response... 200 OK\n",
      "Length: 6160484 (5.9M) [application/x-gzip]\n",
      "Saving to: ‘temporary_data/gene_level_transcriptome/Mus_musculus.GRCm39.ncrna.fa.gz’\n",
      "\n",
      "temporary_data/gene 100%[===================>]   5.88M   784KB/s    in 8.8s    \n",
      "\n",
      "2021-08-16 12:10:57 (683 KB/s) - ‘temporary_data/gene_level_transcriptome/Mus_musculus.GRCm39.ncrna.fa.gz’ saved [6160484/6160484]\n",
      "\n"
     ]
    }
   ],
   "source": [
    "# Download the transcriptome sequence and single-cell sequencing data\n",
    "!mkdir temporary_data\n",
    "!mkdir temporary_data/gene_level_transcriptome\n",
    "!wget http://ftp.ensembl.org/pub/release-104/fasta/mus_musculus/cdna/Mus_musculus.GRCm39.cdna.all.fa.gz -O temporary_data/gene_level_transcriptome/Mus_musculus.GRCm39.cdna.all.fa.gz\n",
    "!gzip -d temporary_data/gene_level_transcriptome/Mus_musculus.GRCm39.cdna.all.fa.gz -f\n",
    "!wget http://ftp.ensembl.org/pub/release-104/fasta/mus_musculus/ncrna/Mus_musculus.GRCm39.ncrna.fa.gz -O temporary_data/gene_level_transcriptome/Mus_musculus.GRCm39.ncrna.fa.gz\n",
    "!gzip -d temporary_data/gene_level_transcriptome/Mus_musculus.GRCm39.ncrna.fa.gz -f"
   ]
  },
  {
   "cell_type": "code",
   "execution_count": 2,
   "id": "a53523a4",
   "metadata": {},
   "outputs": [],
   "source": [
    "# Input files\n",
    "cdna_fasta_file = 'temporary_data/gene_level_transcriptome/Mus_musculus.GRCm39.cdna.all.fa'\n",
    "ncrna_fasta_file = 'temporary_data/gene_level_transcriptome/Mus_musculus.GRCm39.ncrna.fa'\n",
    "APPRIS_file = 'data/isoforms/mouse_appris_data.principal.txt'\n",
    "# Output file\n",
    "gene_level_transcriptome_file = 'temporary_data/gene_level_transcriptome/gene_level_transcriptome.csv'"
   ]
  },
  {
   "cell_type": "code",
   "execution_count": 3,
   "id": "46ca30d0",
   "metadata": {},
   "outputs": [],
   "source": [
    "import numpy as np\n",
    "import pandas as pd\n",
    "from Bio import SeqIO"
   ]
  },
  {
   "cell_type": "code",
   "execution_count": 4,
   "id": "c1e1e279",
   "metadata": {},
   "outputs": [],
   "source": [
    "def load_transcriptome_fasta_into_dataframe(fasta_file):\n",
    "    d = {'transcript_id':[], 'seq_type':[], 'location':[], 'gene_id':[],\n",
    "        'gene_biotype':[], 'transcript_biotype':[], 'gene_symbol':[],\n",
    "        'description':[], 'seq_length':[], 'sequence':[]}\n",
    "    \n",
    "    try:\n",
    "        for record in SeqIO.parse(fasta_file, 'fasta'):\n",
    "            split_rd = record.description.split()            \n",
    "            d['transcript_id'].append(split_rd[0].split('.')[0])\n",
    "            d['seq_type'].append(split_rd[1])\n",
    "            d['location'].append(split_rd[2])\n",
    "            d['gene_id'].append(split_rd[3][5:].split('.')[0])\n",
    "            d['gene_biotype'].append(split_rd[4][13:])\n",
    "            d['transcript_biotype'].append(split_rd[5][19:])\n",
    "            if len(split_rd) > 6:\n",
    "                d['gene_symbol'].append(split_rd[6][12:])\n",
    "            else:\n",
    "                d['gene_symbol'].append(pd.NA)\n",
    "            if len(split_rd) > 7:\n",
    "                d['description'].append(' '.join(split_rd[7:])[12:])\n",
    "            else:\n",
    "                d['description'].append(pd.NA)\n",
    "            \n",
    "            d['seq_length'].append(len(str(record.seq)))\n",
    "            d['sequence'].append(str(record.seq))\n",
    "    \n",
    "    except:\n",
    "        print(split_rd)\n",
    "        raise\n",
    "    \n",
    "    df = pd.DataFrame.from_dict(d)\n",
    "    df = df.set_index('transcript_id')\n",
    "    return df"
   ]
  },
  {
   "cell_type": "code",
   "execution_count": 5,
   "id": "a3b5a7f0",
   "metadata": {},
   "outputs": [],
   "source": [
    "# Load the transcriptome fasta\n",
    "transcriptome_cdna = load_transcriptome_fasta_into_dataframe(cdna_fasta_file)\n",
    "transcriptome_ncrna = load_transcriptome_fasta_into_dataframe(ncrna_fasta_file)\n",
    "transcriptome = pd.concat((transcriptome_cdna, transcriptome_ncrna), axis=0) "
   ]
  },
  {
   "cell_type": "code",
   "execution_count": 6,
   "id": "02ad081a",
   "metadata": {},
   "outputs": [],
   "source": [
    "# Load the annotating principal splice isoforms (APPRIS) data\n",
    "APPRIS = pd.read_csv(APPRIS_file, sep='\\t', header=None)\n",
    "# Find the main isoforms of protein coding each gene\n",
    "transcriptome = transcriptome.merge(APPRIS.set_index(2).rename(\n",
    "                   columns={4:'APPRIS'})['APPRIS'],\n",
    "                   how='left', left_index=True, right_index=True)\n",
    "\n",
    "# Find a unique transcript for each gene\n",
    "transcriptome_grouped = transcriptome.groupby(transcriptome['gene_id'])\n",
    "unique_transcripts = []\n",
    "for i in np.unique(transcriptome['gene_id']):\n",
    "    df = transcriptome_grouped.get_group(i)\n",
    "    # Only consider the main isoforms if the annotation exists\n",
    "    df_main_isoforms = df.loc[df['APPRIS'].notnull()]\n",
    "    if df_main_isoforms.shape[0] == 0:\n",
    "        df_main_isoforms = df\n",
    "    # Find the shortest isoforms    \n",
    "    unique_transcripts.append(df_main_isoforms[['seq_length']].idxmin()[0])\n",
    "\n",
    "transcriptome_unique = transcriptome.loc[unique_transcripts]"
   ]
  },
  {
   "cell_type": "code",
   "execution_count": 7,
   "id": "efe22e56",
   "metadata": {},
   "outputs": [],
   "source": [
    "transcriptome_unique.to_csv(gene_level_transcriptome_file)"
   ]
  }
 ],
 "metadata": {
  "kernelspec": {
   "display_name": "Python 3",
   "language": "python",
   "name": "python3"
  },
  "language_info": {
   "codemirror_mode": {
    "name": "ipython",
    "version": 3
   },
   "file_extension": ".py",
   "mimetype": "text/x-python",
   "name": "python",
   "nbconvert_exporter": "python",
   "pygments_lexer": "ipython3",
   "version": "3.8.10"
  }
 },
 "nbformat": 4,
 "nbformat_minor": 5
}
