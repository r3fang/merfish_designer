{
 "cells": [
  {
   "cell_type": "markdown",
   "id": "703647f1",
   "metadata": {},
   "source": [
    "Design MERFISH probes using the example inputs from Jeff Moffitt. The original MATLAB design pipeline can be found at https://github.com/ZhuangLab/MERFISH_analysis."
   ]
  },
  {
   "cell_type": "code",
   "execution_count": null,
   "id": "9ea54f13",
   "metadata": {},
   "outputs": [],
   "source": [
    "# Download the input data\n",
    "# This is for the UNIX-like operating systems. If you are using Windows, just download the files accordingly.\n",
    "!mkdir temporary_data\n",
    "!wget http://zhuang.harvard.edu/merfish/MERFISHData/MERFISH_Examples2.zip -O temporary_data/MERFISH_Examples2.zip\n",
    "!unzip temporary_data/MERFISH_Examples2.zip -d temporary_data"
   ]
  },
  {
   "cell_type": "code",
   "execution_count": null,
   "id": "ebd7c5a7",
   "metadata": {},
   "outputs": [],
   "source": [
    "# Load the codebook\n",
    "import MERFISH_probe_design.IO.file_io as fio\n",
    "codebook_file = 'temporary_data/MERFISH_Examples2/codebook.csv'\n",
    "cb_version, cb_name, bit_names, barcode_table = fio.load_merlin_codebook(codebook_file)"
   ]
  },
  {
   "cell_type": "code",
   "execution_count": null,
   "id": "c9b9e795",
   "metadata": {},
   "outputs": [],
   "source": [
    "barcode_table"
   ]
  },
  {
   "cell_type": "code",
   "execution_count": null,
   "id": "b0bd3169",
   "metadata": {},
   "outputs": [],
   "source": [
    "# Load the transcriptome\n",
    "transcripts_fasta_file = 'temporary_data/MERFISH_Examples2/transcripts.fasta'\n",
    "fpkm_tracking_file = 'temporary_data/MERFISH_Examples2/isoforms.fpkm_tracking'\n",
    "\n",
    "transcriptome = fio.load_transcriptome(transcripts_fasta_file, fpkm_tracking_file)"
   ]
  },
  {
   "cell_type": "code",
   "execution_count": null,
   "id": "d2686365",
   "metadata": {},
   "outputs": [],
   "source": [
    "# Make sure that the transcriptome data frame has the standard column names!\n",
    "# transcript_id, sequence, gene_id, gene_short_name, FPKM\n",
    "transcriptome"
   ]
  },
  {
   "cell_type": "code",
   "execution_count": null,
   "id": "dda6f5cb",
   "metadata": {},
   "outputs": [],
   "source": [
    "# Initialize the probe dictionary\n",
    "import MERFISH_probe_design.probe_design.probe_dict as pd\n",
    "gene_ids = list(barcode_table['name'][barcode_table['id'] != '']) # Get the non-blank gene names\n",
    "probe_dict = pd.init_probe_dict(gene_ids, transcriptome, 'gene_short_name', 30)\n",
    "pd.print_probe_dict(probe_dict)"
   ]
  },
  {
   "cell_type": "code",
   "execution_count": null,
   "id": "838a1c05",
   "metadata": {},
   "outputs": [],
   "source": [
    "# Select the transcripts that we want to target\n",
    "transcript_ids = set(barcode_table['id'][barcode_table['id'] != '']) # Get the non-blank transcript ids\n",
    "probe_dict = pd.select_transcripts_by_ids(probe_dict, transcript_ids)\n",
    "pd.print_probe_dict(probe_dict)"
   ]
  },
  {
   "cell_type": "code",
   "execution_count": null,
   "id": "ddc1fe65",
   "metadata": {},
   "outputs": [],
   "source": [
    "probe_dict['VPS13D']['ENST00000613099.4']"
   ]
  },
  {
   "cell_type": "code",
   "execution_count": null,
   "id": "10f91d28",
   "metadata": {},
   "outputs": [],
   "source": [
    "# Design/Filter target regions"
   ]
  },
  {
   "cell_type": "code",
   "execution_count": null,
   "id": "e8239578",
   "metadata": {},
   "outputs": [],
   "source": [
    "# Load the readout sequences\n",
    "import MERFISH_probe_design.probe_design.readout_sequences as rs\n",
    "readout_fasta_file = 'temporary_data/MERFISH_Examples2/readouts.fasta'\n",
    "readout_seqs = fio.load_fasta_into_df(readout_fasta_file)\n",
    "rs.append_on_bit_ids_to_readout_sequences(readout_seqs, bit_names)\n",
    "readout_seqs"
   ]
  },
  {
   "cell_type": "code",
   "execution_count": null,
   "id": "5214fcf7",
   "metadata": {},
   "outputs": [],
   "source": [
    "# Add the readout sequences\n",
    "rs.add_readout_seqs_to_probes_random(probe_dict, readout_seqs, barcode_table, 3, n_threads=24)"
   ]
  },
  {
   "cell_type": "code",
   "execution_count": null,
   "id": "dce9e387",
   "metadata": {},
   "outputs": [],
   "source": [
    "probe_dict['VPS13D']['ENST00000613099.4']"
   ]
  },
  {
   "cell_type": "code",
   "execution_count": null,
   "id": "178cf9f7",
   "metadata": {},
   "outputs": [],
   "source": [
    "# Add primers"
   ]
  },
  {
   "cell_type": "code",
   "execution_count": null,
   "id": "6f35dafb",
   "metadata": {},
   "outputs": [],
   "source": [
    "# Blast\n",
    "# Make a blastdb from the human transcriptome\n",
    "# Make a blastdb from the designed oligos\n",
    "# Blast and filter designs"
   ]
  },
  {
   "cell_type": "code",
   "execution_count": null,
   "id": "c0e1094c",
   "metadata": {},
   "outputs": [],
   "source": [
    "# Quality check"
   ]
  },
  {
   "cell_type": "code",
   "execution_count": null,
   "id": "81897575",
   "metadata": {},
   "outputs": [],
   "source": []
  }
 ],
 "metadata": {
  "kernelspec": {
   "display_name": "Python 3",
   "language": "python",
   "name": "python3"
  },
  "language_info": {
   "codemirror_mode": {
    "name": "ipython",
    "version": 3
   },
   "file_extension": ".py",
   "mimetype": "text/x-python",
   "name": "python",
   "nbconvert_exporter": "python",
   "pygments_lexer": "ipython3",
   "version": "3.8.5"
  }
 },
 "nbformat": 4,
 "nbformat_minor": 5
}
